{
 "cells": [
  {
   "cell_type": "code",
   "execution_count": 1,
   "metadata": {},
   "outputs": [],
   "source": [
    "# Create ANN Model\n",
    "\n",
    "#Importing pandas library to read CSV data file\n",
    "import pandas as pd"
   ]
  },
  {
   "cell_type": "code",
   "execution_count": 2,
   "metadata": {},
   "outputs": [],
   "source": [
    "#Reading CSV data file into Python\n",
    "dataset = pd.read_csv('Bank-Data.csv')\n",
    "X = dataset.iloc[:, 0:6].values\n",
    "y = dataset.iloc[:, 6].values"
   ]
  },
  {
   "cell_type": "code",
   "execution_count": 3,
   "metadata": {},
   "outputs": [
    {
     "data": {
      "text/plain": [
       "array([[23, 'R', 2, 'M', 3, 2],\n",
       "       [43, 'R', 3, 'F', 2, 2],\n",
       "       [63, 'R', 7, 'M', 3, 3],\n",
       "       ...,\n",
       "       [67, 'H', 5, 'F', 1, 1],\n",
       "       [35, 'R', 6, 'F', 3, 0],\n",
       "       [34, 'H', 5, 'M', 3, 1]], dtype=object)"
      ]
     },
     "execution_count": 3,
     "metadata": {},
     "output_type": "execute_result"
    }
   ],
   "source": [
    "X"
   ]
  },
  {
   "cell_type": "code",
   "execution_count": 4,
   "metadata": {},
   "outputs": [
    {
     "data": {
      "text/plain": [
       "array([1, 1, 0, ..., 0, 0, 0], dtype=int64)"
      ]
     },
     "execution_count": 4,
     "metadata": {},
     "output_type": "execute_result"
    }
   ],
   "source": [
    "y"
   ]
  },
  {
   "cell_type": "code",
   "execution_count": 5,
   "metadata": {},
   "outputs": [
    {
     "name": "stderr",
     "output_type": "stream",
     "text": [
      "d:\\gitrepositories\\machinelearning\\ml_env\\lib\\site-packages\\sklearn\\preprocessing\\_encoders.py:415: FutureWarning: The handling of integer data will change in version 0.22. Currently, the categories are determined based on the range [0, max(values)], while in the future they will be determined based on the unique values.\n",
      "If you want the future behaviour and silence this warning, you can specify \"categories='auto'\".\n",
      "In case you used a LabelEncoder before this OneHotEncoder to convert the categories to integers, then you can now use the OneHotEncoder directly.\n",
      "  warnings.warn(msg, FutureWarning)\n",
      "d:\\gitrepositories\\machinelearning\\ml_env\\lib\\site-packages\\sklearn\\preprocessing\\_encoders.py:451: DeprecationWarning: The 'categorical_features' keyword is deprecated in version 0.20 and will be removed in 0.22. You can use the ColumnTransformer instead.\n",
      "  \"use the ColumnTransformer instead.\", DeprecationWarning)\n"
     ]
    }
   ],
   "source": [
    "# Encoding categorical data. That is, converting text data into numeric.\n",
    "from sklearn.preprocessing import LabelEncoder, OneHotEncoder\n",
    "labelencoder_X_1 = LabelEncoder()\n",
    "X[:, 1] = labelencoder_X_1.fit_transform(X[:, 1])\n",
    "labelencoder_X_2 = LabelEncoder()\n",
    "X[:, 3] = labelencoder_X_2.fit_transform(X[:, 3])\n",
    "onehotencoder = OneHotEncoder(categorical_features = [1])\n",
    "X = onehotencoder.fit_transform(X).toarray()\n",
    "X = X[:, 1:]"
   ]
  },
  {
   "cell_type": "code",
   "execution_count": 6,
   "metadata": {},
   "outputs": [
    {
     "data": {
      "text/plain": [
       "array([[ 1., 23.,  2.,  1.,  3.,  2.],\n",
       "       [ 1., 43.,  3.,  0.,  2.,  2.],\n",
       "       [ 1., 63.,  7.,  1.,  3.,  3.],\n",
       "       ...,\n",
       "       [ 0., 67.,  5.,  0.,  1.,  1.],\n",
       "       [ 1., 35.,  6.,  0.,  3.,  0.],\n",
       "       [ 0., 34.,  5.,  1.,  3.,  1.]])"
      ]
     },
     "execution_count": 6,
     "metadata": {},
     "output_type": "execute_result"
    }
   ],
   "source": [
    "X"
   ]
  },
  {
   "cell_type": "code",
   "execution_count": 7,
   "metadata": {},
   "outputs": [],
   "source": [
    "# Dividing dataset into Training set and Testing set\n",
    "from sklearn.model_selection import train_test_split\n",
    "X_train, X_test, y_train, y_test = train_test_split(X, y, test_size = 0.2, random_state = 0)"
   ]
  },
  {
   "cell_type": "code",
   "execution_count": 8,
   "metadata": {},
   "outputs": [],
   "source": [
    "# Scaling Inputs\n",
    "from sklearn.preprocessing import StandardScaler\n",
    "sc = StandardScaler()\n",
    "X_train = sc.fit_transform(X_train)\n",
    "X_test = sc.transform(X_test)"
   ]
  },
  {
   "cell_type": "code",
   "execution_count": 12,
   "metadata": {},
   "outputs": [],
   "source": [
    "# Importing Keras libraries\n",
    "import keras\n",
    "from keras.models import Sequential\n",
    "from keras.layers import Dense\n",
    "\n",
    "classifier = Sequential()"
   ]
  },
  {
   "cell_type": "code",
   "execution_count": 13,
   "metadata": {},
   "outputs": [
    {
     "name": "stderr",
     "output_type": "stream",
     "text": [
      "d:\\gitrepositories\\machinelearning\\ml_env\\lib\\site-packages\\ipykernel_launcher.py:2: UserWarning: Update your `Dense` call to the Keras 2 API: `Dense(activation=\"relu\", input_dim=6, units=4, kernel_initializer=\"uniform\")`\n",
      "  \n",
      "d:\\gitrepositories\\machinelearning\\ml_env\\lib\\site-packages\\ipykernel_launcher.py:5: UserWarning: Update your `Dense` call to the Keras 2 API: `Dense(activation=\"relu\", units=4, kernel_initializer=\"uniform\")`\n",
      "  \"\"\"\n",
      "d:\\gitrepositories\\machinelearning\\ml_env\\lib\\site-packages\\ipykernel_launcher.py:8: UserWarning: Update your `Dense` call to the Keras 2 API: `Dense(activation=\"sigmoid\", units=1, kernel_initializer=\"uniform\")`\n",
      "  \n"
     ]
    }
   ],
   "source": [
    "# Adding input layer and first hidden layer\n",
    "classifier.add(Dense(output_dim = 4, init = 'uniform', activation = 'relu', input_dim = 6))\n",
    "\n",
    "# Adding second hidden layer\n",
    "classifier.add(Dense(output_dim = 4, init = 'uniform', activation = 'relu'))\n",
    "\n",
    "# Adding output layer\n",
    "classifier.add(Dense(output_dim = 1, init = 'uniform', activation = 'sigmoid'))\n",
    "\n",
    "# Compiling ANN Algorithm\n",
    "classifier.compile(optimizer = 'adam', loss = 'binary_crossentropy', metrics = ['accuracy'])"
   ]
  },
  {
   "cell_type": "code",
   "execution_count": 19,
   "metadata": {},
   "outputs": [
    {
     "name": "stdout",
     "output_type": "stream",
     "text": [
      "Epoch 1/50\n",
      "880/880 [==============================] - 0s 141us/step - loss: 0.5099 - accuracy: 0.7568\n",
      "Epoch 2/50\n",
      " 10/880 [..............................] - ETA: 0s - loss: 0.5998 - accuracy: 0.7000"
     ]
    },
    {
     "name": "stderr",
     "output_type": "stream",
     "text": [
      "d:\\gitrepositories\\machinelearning\\ml_env\\lib\\site-packages\\ipykernel_launcher.py:2: UserWarning: The `nb_epoch` argument in `fit` has been renamed `epochs`.\n",
      "  \n"
     ]
    },
    {
     "name": "stdout",
     "output_type": "stream",
     "text": [
      "880/880 [==============================] - 0s 158us/step - loss: 0.5101 - accuracy: 0.7580\n",
      "Epoch 3/50\n",
      "880/880 [==============================] - 0s 134us/step - loss: 0.5098 - accuracy: 0.7580\n",
      "Epoch 4/50\n",
      "880/880 [==============================] - 0s 128us/step - loss: 0.5098 - accuracy: 0.7580\n",
      "Epoch 5/50\n",
      "880/880 [==============================] - 0s 149us/step - loss: 0.5092 - accuracy: 0.7580\n",
      "Epoch 6/50\n",
      "880/880 [==============================] - 0s 141us/step - loss: 0.5089 - accuracy: 0.7580\n",
      "Epoch 7/50\n",
      "880/880 [==============================] - 0s 135us/step - loss: 0.5090 - accuracy: 0.7580\n",
      "Epoch 8/50\n",
      "880/880 [==============================] - 0s 112us/step - loss: 0.5086 - accuracy: 0.7614\n",
      "Epoch 9/50\n",
      "880/880 [==============================] - 0s 116us/step - loss: 0.5089 - accuracy: 0.7568\n",
      "Epoch 10/50\n",
      "880/880 [==============================] - 0s 105us/step - loss: 0.5083 - accuracy: 0.7602\n",
      "Epoch 11/50\n",
      "880/880 [==============================] - 0s 128us/step - loss: 0.5088 - accuracy: 0.7568\n",
      "Epoch 12/50\n",
      "880/880 [==============================] - 0s 125us/step - loss: 0.5088 - accuracy: 0.7568\n",
      "Epoch 13/50\n",
      "880/880 [==============================] - 0s 118us/step - loss: 0.5079 - accuracy: 0.7568\n",
      "Epoch 14/50\n",
      "880/880 [==============================] - 0s 113us/step - loss: 0.5081 - accuracy: 0.7580\n",
      "Epoch 15/50\n",
      "880/880 [==============================] - 0s 112us/step - loss: 0.5078 - accuracy: 0.7568\n",
      "Epoch 16/50\n",
      "880/880 [==============================] - 0s 132us/step - loss: 0.5075 - accuracy: 0.7568\n",
      "Epoch 17/50\n",
      "880/880 [==============================] - 0s 151us/step - loss: 0.5073 - accuracy: 0.7580\n",
      "Epoch 18/50\n",
      "880/880 [==============================] - 0s 165us/step - loss: 0.5073 - accuracy: 0.7580\n",
      "Epoch 19/50\n",
      "880/880 [==============================] - 0s 174us/step - loss: 0.5074 - accuracy: 0.7557\n",
      "Epoch 20/50\n",
      "880/880 [==============================] - 0s 116us/step - loss: 0.5073 - accuracy: 0.7591\n",
      "Epoch 21/50\n",
      "880/880 [==============================] - 0s 206us/step - loss: 0.5070 - accuracy: 0.7580\n",
      "Epoch 22/50\n",
      "880/880 [==============================] - 0s 228us/step - loss: 0.5069 - accuracy: 0.7580\n",
      "Epoch 23/50\n",
      "880/880 [==============================] - 0s 186us/step - loss: 0.5071 - accuracy: 0.7580\n",
      "Epoch 24/50\n",
      "880/880 [==============================] - 0s 194us/step - loss: 0.5063 - accuracy: 0.7568\n",
      "Epoch 25/50\n",
      "880/880 [==============================] - 0s 124us/step - loss: 0.5062 - accuracy: 0.7568\n",
      "Epoch 26/50\n",
      "880/880 [==============================] - 0s 161us/step - loss: 0.5065 - accuracy: 0.7568\n",
      "Epoch 27/50\n",
      "880/880 [==============================] - 0s 192us/step - loss: 0.5063 - accuracy: 0.7568\n",
      "Epoch 28/50\n",
      "880/880 [==============================] - 0s 148us/step - loss: 0.5061 - accuracy: 0.7580\n",
      "Epoch 29/50\n",
      "880/880 [==============================] - 0s 125us/step - loss: 0.5060 - accuracy: 0.7568\n",
      "Epoch 30/50\n",
      "880/880 [==============================] - 0s 111us/step - loss: 0.5059 - accuracy: 0.7557\n",
      "Epoch 31/50\n",
      "880/880 [==============================] - 0s 170us/step - loss: 0.5055 - accuracy: 0.7580\n",
      "Epoch 32/50\n",
      "880/880 [==============================] - 0s 158us/step - loss: 0.5056 - accuracy: 0.7580\n",
      "Epoch 33/50\n",
      "880/880 [==============================] - 0s 179us/step - loss: 0.5058 - accuracy: 0.7557\n",
      "Epoch 34/50\n",
      "880/880 [==============================] - 0s 159us/step - loss: 0.5051 - accuracy: 0.7568\n",
      "Epoch 35/50\n",
      "880/880 [==============================] - 0s 163us/step - loss: 0.5054 - accuracy: 0.7568\n",
      "Epoch 36/50\n",
      "880/880 [==============================] - 0s 130us/step - loss: 0.5055 - accuracy: 0.7580\n",
      "Epoch 37/50\n",
      "880/880 [==============================] - 0s 154us/step - loss: 0.5057 - accuracy: 0.75800s - loss: 0.5424 - accuracy: 0.\n",
      "Epoch 38/50\n",
      "880/880 [==============================] - 0s 144us/step - loss: 0.5051 - accuracy: 0.7568\n",
      "Epoch 39/50\n",
      "880/880 [==============================] - 0s 190us/step - loss: 0.5048 - accuracy: 0.7568\n",
      "Epoch 40/50\n",
      "880/880 [==============================] - 0s 164us/step - loss: 0.5051 - accuracy: 0.7580\n",
      "Epoch 41/50\n",
      "880/880 [==============================] - 0s 106us/step - loss: 0.5045 - accuracy: 0.7568\n",
      "Epoch 42/50\n",
      "880/880 [==============================] - 0s 143us/step - loss: 0.5046 - accuracy: 0.7568\n",
      "Epoch 43/50\n",
      "880/880 [==============================] - 0s 160us/step - loss: 0.5044 - accuracy: 0.7568\n",
      "Epoch 44/50\n",
      "880/880 [==============================] - 0s 165us/step - loss: 0.5041 - accuracy: 0.7568\n",
      "Epoch 45/50\n",
      "880/880 [==============================] - 0s 124us/step - loss: 0.5040 - accuracy: 0.7568\n",
      "Epoch 46/50\n",
      "880/880 [==============================] - 0s 109us/step - loss: 0.5036 - accuracy: 0.7580\n",
      "Epoch 47/50\n",
      "880/880 [==============================] - 0s 113us/step - loss: 0.5036 - accuracy: 0.7580\n",
      "Epoch 48/50\n",
      "880/880 [==============================] - 0s 135us/step - loss: 0.5031 - accuracy: 0.7580\n",
      "Epoch 49/50\n",
      "880/880 [==============================] - 0s 168us/step - loss: 0.5032 - accuracy: 0.7580\n",
      "Epoch 50/50\n",
      "880/880 [==============================] - 0s 135us/step - loss: 0.5034 - accuracy: 0.7580\n"
     ]
    },
    {
     "data": {
      "text/plain": [
       "<keras.callbacks.callbacks.History at 0x263da527608>"
      ]
     },
     "execution_count": 19,
     "metadata": {},
     "output_type": "execute_result"
    }
   ],
   "source": [
    "# Fitting ANN Algorithm to Training set\n",
    "classifier.fit(X_train, y_train, batch_size = 10, nb_epoch = 50)"
   ]
  },
  {
   "cell_type": "code",
   "execution_count": 15,
   "metadata": {},
   "outputs": [],
   "source": [
    "# Predicting y_test using X_test \n",
    "y_pred = classifier.predict(X_test)\n",
    "y_pred = (y_pred > 0.5)"
   ]
  },
  {
   "cell_type": "code",
   "execution_count": 16,
   "metadata": {},
   "outputs": [],
   "source": [
    "#Creating Confusion Matrix\n",
    "from sklearn.metrics import confusion_matrix\n",
    "cm = confusion_matrix(y_test, y_pred)"
   ]
  },
  {
   "cell_type": "code",
   "execution_count": 17,
   "metadata": {},
   "outputs": [
    {
     "data": {
      "text/plain": [
       "74.0909090909091"
      ]
     },
     "execution_count": 17,
     "metadata": {},
     "output_type": "execute_result"
    }
   ],
   "source": [
    "# Accuracy in percentage\n",
    "((cm[0,0] + cm[1,1]) / len(y_test)) * 100"
   ]
  },
  {
   "cell_type": "code",
   "execution_count": null,
   "metadata": {},
   "outputs": [],
   "source": []
  }
 ],
 "metadata": {
  "kernelspec": {
   "display_name": "Python 3",
   "language": "python",
   "name": "python3"
  },
  "language_info": {
   "codemirror_mode": {
    "name": "ipython",
    "version": 3
   },
   "file_extension": ".py",
   "mimetype": "text/x-python",
   "name": "python",
   "nbconvert_exporter": "python",
   "pygments_lexer": "ipython3",
   "version": "3.7.4"
  }
 },
 "nbformat": 4,
 "nbformat_minor": 2
}
