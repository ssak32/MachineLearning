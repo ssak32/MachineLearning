{
 "cells": [
  {
   "cell_type": "code",
   "execution_count": 1,
   "metadata": {},
   "outputs": [
    {
     "data": {
      "text/plain": [
       "[RelationRecord(items=frozenset({'bread', 'butter', 'milk'}), support=0.5, ordered_statistics=[OrderedStatistic(items_base=frozenset({'bread', 'milk'}), items_add=frozenset({'butter'}), confidence=0.8461538461538461, lift=1.241025641025641)])]"
      ]
     },
     "execution_count": 1,
     "metadata": {},
     "output_type": "execute_result"
    }
   ],
   "source": [
    "# Create Apriori Model for Market Basket Analysis\n",
    "\n",
    "#Importing pandas library to read CSV data file\n",
    "import pandas as pd\n",
    "\n",
    "from apyori import apriori\n",
    "\n",
    "# Data Preprocessing\n",
    "dataset = pd.read_csv('GroceryStoreDataSet.csv', header = None)\n",
    "transactions = []\n",
    "for i in range(0, 22):\n",
    "    transactions.append([str(dataset.values[i,j]) for j in range(0, 5)])\n",
    "\n",
    "# Training Apriori on the dataset\n",
    "rules = apriori(transactions, min_support = 0.5, min_confidence = 0.4, min_lift = 1.2, min_length = 2)\n",
    "\n",
    "# Create list of results\n",
    "results = list(rules)\n",
    "\n",
    "results"
   ]
  },
  {
   "cell_type": "code",
   "execution_count": null,
   "metadata": {},
   "outputs": [],
   "source": []
  }
 ],
 "metadata": {
  "kernelspec": {
   "display_name": "Python 3",
   "language": "python",
   "name": "python3"
  },
  "language_info": {
   "codemirror_mode": {
    "name": "ipython",
    "version": 3
   },
   "file_extension": ".py",
   "mimetype": "text/x-python",
   "name": "python",
   "nbconvert_exporter": "python",
   "pygments_lexer": "ipython3",
   "version": "3.7.4"
  }
 },
 "nbformat": 4,
 "nbformat_minor": 2
}
