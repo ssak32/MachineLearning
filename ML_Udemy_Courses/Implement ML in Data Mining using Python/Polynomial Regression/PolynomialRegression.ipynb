{
 "cells": [
  {
   "cell_type": "code",
   "execution_count": 1,
   "metadata": {},
   "outputs": [],
   "source": [
    "# Create Polynomial Regression Model\n",
    "\n",
    "#Importing pandas library to read CSV data file\n",
    "import pandas as pd\n",
    "\n",
    "#Importing matplotlib to plot the results\n",
    "import matplotlib.pyplot as plt\n",
    "\n",
    "#Reading CSV data file in Python\n",
    "dataset = pd.read_csv('reward-system.csv')"
   ]
  },
  {
   "cell_type": "code",
   "execution_count": 2,
   "metadata": {},
   "outputs": [
    {
     "data": {
      "text/html": [
       "<div>\n",
       "<style scoped>\n",
       "    .dataframe tbody tr th:only-of-type {\n",
       "        vertical-align: middle;\n",
       "    }\n",
       "\n",
       "    .dataframe tbody tr th {\n",
       "        vertical-align: top;\n",
       "    }\n",
       "\n",
       "    .dataframe thead th {\n",
       "        text-align: right;\n",
       "    }\n",
       "</style>\n",
       "<table border=\"1\" class=\"dataframe\">\n",
       "  <thead>\n",
       "    <tr style=\"text-align: right;\">\n",
       "      <th></th>\n",
       "      <th>Hours</th>\n",
       "      <th>Points</th>\n",
       "    </tr>\n",
       "  </thead>\n",
       "  <tbody>\n",
       "    <tr>\n",
       "      <td>0</td>\n",
       "      <td>10</td>\n",
       "      <td>1000</td>\n",
       "    </tr>\n",
       "    <tr>\n",
       "      <td>1</td>\n",
       "      <td>12</td>\n",
       "      <td>1200</td>\n",
       "    </tr>\n",
       "    <tr>\n",
       "      <td>2</td>\n",
       "      <td>14</td>\n",
       "      <td>1400</td>\n",
       "    </tr>\n",
       "    <tr>\n",
       "      <td>3</td>\n",
       "      <td>15</td>\n",
       "      <td>1600</td>\n",
       "    </tr>\n",
       "    <tr>\n",
       "      <td>4</td>\n",
       "      <td>17</td>\n",
       "      <td>2400</td>\n",
       "    </tr>\n",
       "    <tr>\n",
       "      <td>5</td>\n",
       "      <td>20</td>\n",
       "      <td>3000</td>\n",
       "    </tr>\n",
       "    <tr>\n",
       "      <td>6</td>\n",
       "      <td>23</td>\n",
       "      <td>4000</td>\n",
       "    </tr>\n",
       "    <tr>\n",
       "      <td>7</td>\n",
       "      <td>25</td>\n",
       "      <td>5000</td>\n",
       "    </tr>\n",
       "    <tr>\n",
       "      <td>8</td>\n",
       "      <td>30</td>\n",
       "      <td>10000</td>\n",
       "    </tr>\n",
       "    <tr>\n",
       "      <td>9</td>\n",
       "      <td>40</td>\n",
       "      <td>18000</td>\n",
       "    </tr>\n",
       "    <tr>\n",
       "      <td>10</td>\n",
       "      <td>47</td>\n",
       "      <td>26000</td>\n",
       "    </tr>\n",
       "    <tr>\n",
       "      <td>11</td>\n",
       "      <td>50</td>\n",
       "      <td>30000</td>\n",
       "    </tr>\n",
       "    <tr>\n",
       "      <td>12</td>\n",
       "      <td>53</td>\n",
       "      <td>40000</td>\n",
       "    </tr>\n",
       "    <tr>\n",
       "      <td>13</td>\n",
       "      <td>60</td>\n",
       "      <td>55000</td>\n",
       "    </tr>\n",
       "    <tr>\n",
       "      <td>14</td>\n",
       "      <td>70</td>\n",
       "      <td>100000</td>\n",
       "    </tr>\n",
       "    <tr>\n",
       "      <td>15</td>\n",
       "      <td>74</td>\n",
       "      <td>150000</td>\n",
       "    </tr>\n",
       "    <tr>\n",
       "      <td>16</td>\n",
       "      <td>80</td>\n",
       "      <td>200000</td>\n",
       "    </tr>\n",
       "    <tr>\n",
       "      <td>17</td>\n",
       "      <td>87</td>\n",
       "      <td>350000</td>\n",
       "    </tr>\n",
       "    <tr>\n",
       "      <td>18</td>\n",
       "      <td>90</td>\n",
       "      <td>380000</td>\n",
       "    </tr>\n",
       "    <tr>\n",
       "      <td>19</td>\n",
       "      <td>100</td>\n",
       "      <td>600000</td>\n",
       "    </tr>\n",
       "  </tbody>\n",
       "</table>\n",
       "</div>"
      ],
      "text/plain": [
       "    Hours  Points\n",
       "0      10    1000\n",
       "1      12    1200\n",
       "2      14    1400\n",
       "3      15    1600\n",
       "4      17    2400\n",
       "5      20    3000\n",
       "6      23    4000\n",
       "7      25    5000\n",
       "8      30   10000\n",
       "9      40   18000\n",
       "10     47   26000\n",
       "11     50   30000\n",
       "12     53   40000\n",
       "13     60   55000\n",
       "14     70  100000\n",
       "15     74  150000\n",
       "16     80  200000\n",
       "17     87  350000\n",
       "18     90  380000\n",
       "19    100  600000"
      ]
     },
     "execution_count": 2,
     "metadata": {},
     "output_type": "execute_result"
    }
   ],
   "source": [
    "dataset"
   ]
  },
  {
   "cell_type": "code",
   "execution_count": 3,
   "metadata": {},
   "outputs": [],
   "source": [
    "#Dividing dataset into X and y\n",
    "X = dataset.iloc[:, [0]].values\n",
    "y = dataset.iloc[:, 1].values"
   ]
  },
  {
   "cell_type": "code",
   "execution_count": 4,
   "metadata": {},
   "outputs": [
    {
     "data": {
      "text/plain": [
       "array([[ 10],\n",
       "       [ 12],\n",
       "       [ 14],\n",
       "       [ 15],\n",
       "       [ 17],\n",
       "       [ 20],\n",
       "       [ 23],\n",
       "       [ 25],\n",
       "       [ 30],\n",
       "       [ 40],\n",
       "       [ 47],\n",
       "       [ 50],\n",
       "       [ 53],\n",
       "       [ 60],\n",
       "       [ 70],\n",
       "       [ 74],\n",
       "       [ 80],\n",
       "       [ 87],\n",
       "       [ 90],\n",
       "       [100]], dtype=int64)"
      ]
     },
     "execution_count": 4,
     "metadata": {},
     "output_type": "execute_result"
    }
   ],
   "source": [
    "X"
   ]
  },
  {
   "cell_type": "code",
   "execution_count": 5,
   "metadata": {},
   "outputs": [
    {
     "data": {
      "text/plain": [
       "array([  1000,   1200,   1400,   1600,   2400,   3000,   4000,   5000,\n",
       "        10000,  18000,  26000,  30000,  40000,  55000, 100000, 150000,\n",
       "       200000, 350000, 380000, 600000], dtype=int64)"
      ]
     },
     "execution_count": 5,
     "metadata": {},
     "output_type": "execute_result"
    }
   ],
   "source": [
    "y"
   ]
  },
  {
   "cell_type": "code",
   "execution_count": 6,
   "metadata": {},
   "outputs": [
    {
     "data": {
      "image/png": "[encoded data removed]",
      "text/plain": [
       "<Figure size 432x288 with 1 Axes>"
      ]
     },
     "metadata": {
      "needs_background": "light"
     },
     "output_type": "display_data"
    }
   ],
   "source": [
    "#Importing LinearRegression from sklearn.linear_model to fit linear regression model\n",
    "from sklearn.linear_model import LinearRegression\n",
    "\n",
    "# Fitting Linear Regression to training data\n",
    "linear_reg = LinearRegression()\n",
    "linear_reg.fit(X, y)\n",
    "\n",
    "# Plotting Linear Regression results\n",
    "plt.scatter(X, y, color = 'black')\n",
    "plt.plot(X, linear_reg.predict(X), color = 'red')\n",
    "plt.title('Reward System (Linear Regression)')\n",
    "plt.xlabel('Hours')\n",
    "plt.ylabel('Points')\n",
    "plt.show()"
   ]
  },
  {
   "cell_type": "code",
   "execution_count": 25,
   "metadata": {},
   "outputs": [
    {
     "data": {
      "image/png": "[encoded data removed]",
      "text/plain": [
       "<Figure size 432x288 with 1 Axes>"
      ]
     },
     "metadata": {
      "needs_background": "light"
     },
     "output_type": "display_data"
    }
   ],
   "source": [
    "#Importing PolynomialFeatures from sklearn.preprocessing to fit polynomial regression model\n",
    "from sklearn.preprocessing import PolynomialFeatures\n",
    "\n",
    "# Fitting Polynomial Regression to training data\n",
    "polynomial_reg = PolynomialFeatures(degree = 3)\n",
    "X_polynomial = polynomial_reg.fit_transform(X)\n",
    "polynomial_reg.fit(X_polynomial, y)\n",
    "linear_polynomial = LinearRegression()\n",
    "linear_polynomial.fit(X_polynomial, y)\n",
    "\n",
    "# Plotting Polynomial Regression results\n",
    "plt.scatter(X, y, color = 'black')\n",
    "plt.plot(X, linear_polynomial.predict(polynomial_reg.fit_transform(X)), color = 'red')\n",
    "plt.title('Reward System (Polynomial Regression)')\n",
    "plt.xlabel('Hours')\n",
    "plt.ylabel('Points')\n",
    "plt.show()"
   ]
  },
  {
   "cell_type": "code",
   "execution_count": 29,
   "metadata": {},
   "outputs": [],
   "source": [
    "# Predicting a y value for X=90 using Linear Regression\n",
    "y_pred_by_simple_linear =linear_reg.predict([[90]])\n",
    "\n",
    "# Predicting a y value for X=90 using Polynomial Regression\n",
    "y_pred_by_polynomial_linear = linear_polynomial.predict(polynomial_reg.fit_transform([[90]]))"
   ]
  },
  {
   "cell_type": "code",
   "execution_count": 30,
   "metadata": {},
   "outputs": [
    {
     "data": {
      "text/plain": [
       "array([306179.08758936])"
      ]
     },
     "execution_count": 30,
     "metadata": {},
     "output_type": "execute_result"
    }
   ],
   "source": [
    "y_pred_by_simple_linear"
   ]
  },
  {
   "cell_type": "code",
   "execution_count": 31,
   "metadata": {},
   "outputs": [
    {
     "data": {
      "text/plain": [
       "array([379344.61599206])"
      ]
     },
     "execution_count": 31,
     "metadata": {},
     "output_type": "execute_result"
    }
   ],
   "source": [
    "y_pred_by_polynomial_linear"
   ]
  },
  {
   "cell_type": "code",
   "execution_count": null,
   "metadata": {},
   "outputs": [],
   "source": []
  }
 ],
 "metadata": {
  "kernelspec": {
   "display_name": "Python 3",
   "language": "python",
   "name": "python3"
  },
  "language_info": {
   "codemirror_mode": {
    "name": "ipython",
    "version": 3
   },
   "file_extension": ".py",
   "mimetype": "text/x-python",
   "name": "python",
   "nbconvert_exporter": "python",
   "pygments_lexer": "ipython3",
   "version": "3.7.4"
  }
 },
 "nbformat": 4,
 "nbformat_minor": 2
}
